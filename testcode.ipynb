{
 "cells": [
  {
   "cell_type": "code",
   "execution_count": null,
   "metadata": {
    "scrolled": true
   },
   "outputs": [],
   "source": [
    "import time\n",
    "from datetime import datetime\n",
    "import sys\n",
    "import telnetlib\n",
    "from telnetlib import Telnet \n",
    "import interact\n",
    " \n",
    "\n",
    "\n",
    "\n",
    "\n",
    "tn = telnetlib.Telnet(\"www.windows93.net\", 8082)  \n",
    "\n",
    "\n",
    "\n",
    "# initiate telnet connection for ....\n",
    "\n",
    "botName = input(\"Bot Name: \")\n",
    "password = input(\"Bot Password: \")\n",
    "host = \"www.windows93.net\"\n",
    "botState = \"active\"\n",
    "\n",
    "# Open Session\n",
    "tn.open(host, 8082)\n",
    "\n",
    "print(\"Opening Session\")\n",
    "\n",
    "tn.read_until(b\"Please enter your name, or \\\"new\\\" if you are new.\")\n",
    "tn.write(botName.encode('ascii') + b\"\\n\")\n",
    "tn.read_until(b\"Please enter your password.\")\n",
    "tn.write(password.encode('ascii') + b\"\\n\")\n",
    "             \n",
    "# Look in world\n",
    "             \n",
    "# tn.write(b\"look\\n\")\n",
    "\n",
    "time.sleep(1)\n",
    "\n",
    "online = \"Coming Online...\"\n",
    "\n",
    "tn.write(online.encode('ascii') + b\"\\n\")\n",
    "\n",
    "while True:    \n",
    "    \n",
    "    Output = tn.read_very_eager().decode('ascii')\n",
    "    now = datetime.now()\n",
    "    tstamp = now.strftime(\"[%m/%d/%Y %H:%M] \")\n",
    "    \n",
    "    if Output == \"\":\n",
    "        continue;\n",
    "        \n",
    "    else:\n",
    "           \n",
    "        \n",
    "        # Save a log\n",
    "        file = open(\"realms93-log\", \"a\")\n",
    "        file.write(tstamp + Output)\n",
    "        file.close()\n",
    "        \n",
    "       \n",
    "        print(Output)\n",
    "        # Assess Situation\n",
    "\n",
    "     \n",
    "        takeAction = interact.assess(Output,botState,botName)\n",
    "        \n",
    "        # print('TakeAction variable is ' + takeAction)\n",
    "        \n",
    "        \n",
    "           \n",
    "        if (takeAction is None):\n",
    "            continue\n",
    "\n",
    "            \n",
    "        else:\n",
    "            tn.write(takeAction.encode('ascii') + b\"\\n\")\n",
    "\n",
    "            print('===== GATHERING NEW INPUT =====')\n",
    "\n",
    "            continue\n",
    "\n",
    "\n",
    "    \n"
   ]
  },
  {
   "cell_type": "code",
   "execution_count": null,
   "metadata": {
    "scrolled": true
   },
   "outputs": [],
   "source": [
    "interact.say(\"Test\") "
   ]
  },
  {
   "cell_type": "code",
   "execution_count": 2,
   "metadata": {},
   "outputs": [],
   "source": [
    "tn.close()"
   ]
  },
  {
   "cell_type": "code",
   "execution_count": null,
   "metadata": {},
   "outputs": [],
   "source": []
  },
  {
   "cell_type": "code",
   "execution_count": null,
   "metadata": {},
   "outputs": [],
   "source": []
  }
 ],
 "metadata": {
  "kernelspec": {
   "display_name": "Python 3",
   "language": "python",
   "name": "python3"
  },
  "language_info": {
   "codemirror_mode": {
    "name": "ipython",
    "version": 3
   },
   "file_extension": ".py",
   "mimetype": "text/x-python",
   "name": "python",
   "nbconvert_exporter": "python",
   "pygments_lexer": "ipython3",
   "version": "3.8.5"
  }
 },
 "nbformat": 4,
 "nbformat_minor": 2
}
