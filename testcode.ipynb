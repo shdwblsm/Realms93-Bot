{
 "cells": [
  {
   "cell_type": "code",
   "execution_count": null,
   "metadata": {
    "scrolled": true
   },
   "outputs": [],
   "source": [
    "import time\n",
    "from datetime import datetime\n",
    "import sys\n",
    "import telnetlib\n",
    "from telnetlib import Telnet \n",
    "import interact\n",
    "\n",
    "tn = telnetlib.Telnet(\"www.windows93.net\", 8082)  \n",
    "        \n",
    "# initiate telnet connection for ....\n",
    "\n",
    "\n",
    "user = input(\"Bot Name: \")\n",
    "password = input(\"Bot Password: \")\n",
    "host = \"www.windows93.net\"\n",
    "\n",
    "# Open Session\n",
    "tn.open(host, 8082)\n",
    "\n",
    "print(\"Opening Session\")\n",
    "\n",
    "tn.read_until(b\"Please enter your name, or \\\"new\\\" if you are new.\")\n",
    "tn.write(user.encode('ascii') + b\"\\n\")\n",
    "tn.read_until(b\"Please enter your password.\")\n",
    "tn.write(password.encode('ascii') + b\"\\n\")\n",
    "             \n",
    "# Look in world\n",
    "             \n",
    "tn.write(b\"look\\n\")\n",
    "\n",
    "time.sleep(1)\n",
    "\n",
    "interact.see()\n",
    "\n",
    "\n",
    "             \n",
    "       \n",
    "#"
   ]
  },
  {
   "cell_type": "code",
   "execution_count": null,
   "metadata": {
    "scrolled": false
   },
   "outputs": [],
   "source": [
    "\n",
    "\n",
    "while True:    \n",
    "    \n",
    "    Output = tn.read_very_eager().decode('ascii')\n",
    "    now = datetime.now()\n",
    "    tstamp = now.strftime(\"[%m/%d/%Y %H:%M] \")\n",
    "    \n",
    "    if Output == \"\":\n",
    "        continue;\n",
    "    else:\n",
    "        print(Output)\n",
    "        tstampOutput = tstamp + Output \n",
    "        \n",
    "        \n",
    "        # Save a log\n",
    "        file = open(\"realms93-log\", \"a\")\n",
    "        file.write(tstamp + Output)\n",
    "        file.close()\n",
    "        \n",
    "        assess(Output)\n",
    "\n",
    "\n",
    "    \n",
    "\n"
   ]
  },
  {
   "cell_type": "code",
   "execution_count": null,
   "metadata": {},
   "outputs": [],
   "source": [
    "tn.close()"
   ]
  },
  {
   "cell_type": "code",
   "execution_count": null,
   "metadata": {},
   "outputs": [],
   "source": [
    "# The Interaction Module -- Say, Look, Attack, etc.\n",
    "\n",
    "def interact(words):\n",
    "    \n",
    "    tn.write(b\"\"words\"\\n\")\n",
    "    \n",
    "    \n",
    "    \n",
    "    \n",
    "    "
   ]
  },
  {
   "cell_type": "code",
   "execution_count": null,
   "metadata": {},
   "outputs": [],
   "source": [
    "say(Test)"
   ]
  },
  {
   "cell_type": "code",
   "execution_count": null,
   "metadata": {},
   "outputs": [],
   "source": [
    "# Assess Situation\n",
    "\n",
    "def assess:\n",
    "    import sys\n",
    "    from datetime import datetime\n",
    "    \n",
    "    \n",
    "    for line in Output:\n",
    "        \n",
    "        if ('Zugzwang whispers to you' || 'Bishop whispers to you' in line) && (line.startswith('Zugzwang' || 'Bishop')) in line:\n",
    "            \n",
    "            # Accept commands only from whispers from Zugzwang or Bishop -- checks to see it's the start of string and not a double up whisper\n",
    "        \n",
    "        \n",
    "        else if 'attacks you!' in line:\n",
    "            \n",
    "            # Pull handle from line and save to $atk variable\n",
    "            atk = \n",
    "            \n",
    "             # Who Attacked Me At a Glance -- possible hitlist for later\n",
    "            now = datetime.now()\n",
    "            tstamp = now.strftime(\"[%m/%d/%Y %H:%M] \")\n",
    "            tstampOutput = tstamp + Output \n",
    "            file = open(\"realms93-atk-log\", \"a\")\n",
    "            file.write(tstamp + atk)\n",
    "            file.close()\n",
    "            \n",
    "            # Respond to attack -- Use api command for awareness?\n",
    "            interact.attack(atk)\n",
    "            \n",
    "            \n",
    "        else if 'drops' in line:\n",
    "            \n",
    "            # Pull $item from line and pass to interact()\n",
    "            \n",
    "            item = \n",
    "            \n",
    "            # Pick up item\n",
    "            interact.get(item)\n",
    "        \n",
    "\n",
    "            \n",
    "            "
   ]
  }
 ],
 "metadata": {
  "kernelspec": {
   "display_name": "Python 3",
   "language": "python",
   "name": "python3"
  },
  "language_info": {
   "codemirror_mode": {
    "name": "ipython",
    "version": 3
   },
   "file_extension": ".py",
   "mimetype": "text/x-python",
   "name": "python",
   "nbconvert_exporter": "python",
   "pygments_lexer": "ipython3",
   "version": "3.8.5"
  }
 },
 "nbformat": 4,
 "nbformat_minor": 2
}
