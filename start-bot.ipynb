{
 "cells": [
  {
   "cell_type": "code",
   "execution_count": 4,
   "metadata": {
    "scrolled": true
   },
   "outputs": [
    {
     "name": "stdout",
     "output_type": "stream",
     "text": [
      "Bot Name: Zugzwang\n",
      "Bot Password: Samoas5\n",
      "b' \\x1b[0m\\x1b[32m\\x1b[0m\\r\\r\\n\\x1b[0m\\x1b[0m\\x1b[32mThank you! You are now entering the realm...\\x1b[0m\\r\\r\\n\\x1b[0m'\n"
     ]
    }
   ],
   "source": [
    "import telnetlib\n",
    "from telnetlib import Telnet \n",
    "\n",
    "tn = telnetlib.Telnet(\"www.windows93.net\", 8082)  \n",
    "        \n",
    "# initiate telnet connection for ....\n",
    "\n",
    "user = input(\"Bot Name: \")\n",
    "password = input(\"Bot Password: \")\n",
    "host = \"www.windows93.net\"\n",
    "\n",
    "# Open Session\n",
    "tn.open(host, 8082)\n",
    "\n",
    "tn.read_until(b\"Please enter your name, or \\\"new\\\" if you are new.\")\n",
    "tn.write(user.encode('ascii') + b\"\\n\")\n",
    "tn.read_until(b\"Please enter your password.\")\n",
    "tn.write(password.encode('ascii') + b\"\\n\")\n",
    "             \n",
    "# Look in world\n",
    "             \n",
    "tn.write(b\"look\\n\")\n",
    "\n",
    "#tn.write(b\"test\\n\")\n",
    "\n",
    "print(tn.read_all())\n",
    "             \n",
    "#tn.write(b\"quit\\n\")\n",
    "         \n",
    "#"
   ]
  },
  {
   "cell_type": "code",
   "execution_count": 5,
   "metadata": {},
   "outputs": [],
   "source": [
    "tn.close()"
   ]
  },
  {
   "cell_type": "code",
   "execution_count": null,
   "metadata": {},
   "outputs": [],
   "source": []
  }
 ],
 "metadata": {
  "kernelspec": {
   "display_name": "Python 3",
   "language": "python",
   "name": "python3"
  },
  "language_info": {
   "codemirror_mode": {
    "name": "ipython",
    "version": 3
   },
   "file_extension": ".py",
   "mimetype": "text/x-python",
   "name": "python",
   "nbconvert_exporter": "python",
   "pygments_lexer": "ipython3",
   "version": "3.6.9"
  }
 },
 "nbformat": 4,
 "nbformat_minor": 2
}
