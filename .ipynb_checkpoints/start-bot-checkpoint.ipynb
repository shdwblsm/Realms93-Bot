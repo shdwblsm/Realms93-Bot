{
 "cells": [
  {
   "cell_type": "code",
   "execution_count": 1,
   "metadata": {
    "scrolled": true
   },
   "outputs": [
    {
     "name": "stdout",
     "output_type": "stream",
     "text": [
      "Bot Name: Zwischenzug\n",
      "Bot Password: Samoas7\n",
      "Opening Session\n",
      " \u001b[0m\u001b[32m\u001b[0m\n",
      "\u001b[0m\u001b[0m\u001b[32mThank you! You are now entering the realm...\n",
      "\u001b[0m\u001b[32m\u001b[1m\u001b[0m\u001b[32m\u001b[1m\u001b[33mIt's happy hour!\u001b[0m\u001b[32m\u001b[1m\u001b[0m\u001b[32m\u001b[0m\n",
      "\u001b[0m\u001b[0m\u001b[1m\u001b[0m\u001b[1m\u001b[32mZwischenzug has entered the realm.\u001b[0m\u001b[1m\u001b[0m\n",
      "\u001b[0m\n",
      "\u001b[0m\u001b[1m\u001b[0m\u001b[1m\u001b[37mTown Square\u001b[0m\u001b[1m\u001b[0m\n",
      "\u001b[0m\u001b[1m\u001b[0m\u001b[1m\u001b[35mYou are in the town square. This is the central meeting place for the realm.\n",
      "There is panel there for you to \u001b[0m\u001b[1m\u001b[35m\u001b[33mread\u001b[0m\u001b[1m\u001b[35m.\u001b[0m\u001b[1m\u001b[0m\n",
      "\u001b[0m\u001b[1m\u001b[0m\u001b[1m\u001b[32mexits: NORTH  EAST  SOUTH  WEST  \u001b[0m\u001b[1m\u001b[0m\n",
      "\u001b[0m\u001b[1m\u001b[0m\u001b[1m\u001b[36mPeople: Zugzwang, Bishop, Zwischenzug\u001b[0m\u001b[1m\u001b[0m\n",
      "\n",
      "\u001b[0m\n",
      "\u001b[0m\u001b[1m\u001b[0m\u001b[1m\u001b[37mTown Square\u001b[0m\u001b[1m\u001b[0m\n",
      "\u001b[0m\u001b[1m\u001b[0m\u001b[1m\u001b[35mYou are in the town square. This is the central meeting place for the realm.\n",
      "There is panel there for you to \u001b[0m\u001b[1m\u001b[35m\u001b[33mread\u001b[0m\u001b[1m\u001b[35m.\u001b[0m\u001b[1m\u001b[0m\n",
      "\u001b[0m\u001b[1m\u001b[0m\u001b[1m\u001b[32mexits: NORTH  EAST  SOUTH  WEST  \u001b[0m\u001b[1m\u001b[0m\n",
      "\u001b[0m\u001b[1m\u001b[0m\u001b[1m\u001b[36mPeople: Zugzwang, Bishop, Zwischenzug\u001b[0m\u001b[1m\u001b[0m\n",
      "\n",
      "\u001b[0m\n"
     ]
    }
   ],
   "source": [
    "import time\n",
    "import sys\n",
    "import telnetlib\n",
    "from telnetlib import Telnet \n",
    "\n",
    "tn = telnetlib.Telnet(\"www.windows93.net\", 8082)  \n",
    "        \n",
    "# initiate telnet connection for ....\n",
    "\n",
    "\n",
    "user = input(\"Bot Name: \")\n",
    "password = input(\"Bot Password: \")\n",
    "host = \"www.windows93.net\"\n",
    "\n",
    "# Open Session\n",
    "tn.open(host, 8082)\n",
    "\n",
    "print(\"Opening Session\")\n",
    "\n",
    "tn.read_until(b\"Please enter your name, or \\\"new\\\" if you are new.\")\n",
    "tn.write(user.encode('ascii') + b\"\\n\")\n",
    "tn.read_until(b\"Please enter your password.\")\n",
    "tn.write(password.encode('ascii') + b\"\\n\")\n",
    "             \n",
    "# Look in world\n",
    "             \n",
    "tn.write(b\"look\\n\")\n",
    "\n",
    "time.sleep(1)\n",
    "\n",
    "Output = tn.read_very_eager().decode('ascii')\n",
    "\n",
    "print(Output)\n",
    "\n",
    "\n",
    "             \n",
    "       \n",
    "#"
   ]
  },
  {
   "cell_type": "code",
   "execution_count": 2,
   "metadata": {},
   "outputs": [],
   "source": [
    "tn.close()"
   ]
  },
  {
   "cell_type": "code",
   "execution_count": null,
   "metadata": {},
   "outputs": [],
   "source": []
  },
  {
   "cell_type": "code",
   "execution_count": null,
   "metadata": {},
   "outputs": [],
   "source": []
  }
 ],
 "metadata": {
  "kernelspec": {
   "display_name": "Python 3",
   "language": "python",
   "name": "python3"
  },
  "language_info": {
   "codemirror_mode": {
    "name": "ipython",
    "version": 3
   },
   "file_extension": ".py",
   "mimetype": "text/x-python",
   "name": "python",
   "nbconvert_exporter": "python",
   "pygments_lexer": "ipython3",
   "version": "3.6.9"
  }
 },
 "nbformat": 4,
 "nbformat_minor": 2
}
