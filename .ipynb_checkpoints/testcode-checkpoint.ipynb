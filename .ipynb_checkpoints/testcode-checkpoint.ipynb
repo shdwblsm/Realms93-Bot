{
 "cells": [
  {
   "cell_type": "code",
   "execution_count": null,
   "metadata": {
    "scrolled": true
   },
   "outputs": [],
   "source": [
    "import time\n",
    "from datetime import datetime\n",
    "import sys\n",
    "import telnetlib\n",
    "from telnetlib import Telnet \n",
    "\n",
    "tn = telnetlib.Telnet(\"www.windows93.net\", 8082)  \n",
    "        \n",
    "# initiate telnet connection for ....\n",
    "\n",
    "\n",
    "user = input(\"Bot Name: \")\n",
    "password = input(\"Bot Password: \")\n",
    "host = \"www.windows93.net\"\n",
    "\n",
    "# Open Session\n",
    "tn.open(host, 8082)\n",
    "\n",
    "print(\"Opening Session\")\n",
    "\n",
    "tn.read_until(b\"Please enter your name, or \\\"new\\\" if you are new.\")\n",
    "tn.write(user.encode('ascii') + b\"\\n\")\n",
    "tn.read_until(b\"Please enter your password.\")\n",
    "tn.write(password.encode('ascii') + b\"\\n\")\n",
    "             \n",
    "# Look in world\n",
    "             \n",
    "tn.write(b\"look\\n\")\n",
    "\n",
    "time.sleep(1)\n",
    "\n",
    "Output = tn.read_very_lazy().decode('ascii')\n",
    "\n",
    "print(Output)\n",
    "\n",
    "\n",
    "             \n",
    "       \n",
    "#"
   ]
  },
  {
   "cell_type": "code",
   "execution_count": null,
   "metadata": {
    "scrolled": false
   },
   "outputs": [],
   "source": [
    "while True:    \n",
    "    \n",
    "    Output = tn.read_very_eager().decode('ascii')\n",
    "    now = datetime.now()\n",
    "    tstamp = now.strftime(\"[%m/%d/%Y %H:%M] \")\n",
    "    \n",
    "    if Output == \"\":\n",
    "        continue;\n",
    "    else:\n",
    "        print(Output)\n",
    "        tstampOutput = tstamp + Output \n",
    "        \n",
    "        \n",
    "        # Save a log\n",
    "        file = open(\"realms93-log\", \"a\")\n",
    "        file.write(tstamp + Output)\n",
    "        file.close()\n",
    "        \n",
    "\n",
    "    \n",
    "\n"
   ]
  },
  {
   "cell_type": "code",
   "execution_count": null,
   "metadata": {},
   "outputs": [],
   "source": [
    "tn.close()"
   ]
  },
  {
   "cell_type": "code",
   "execution_count": null,
   "metadata": {},
   "outputs": [],
   "source": []
  },
  {
   "cell_type": "code",
   "execution_count": null,
   "metadata": {},
   "outputs": [],
   "source": []
  }
 ],
 "metadata": {
  "kernelspec": {
   "display_name": "Python 3",
   "language": "python",
   "name": "python3"
  },
  "language_info": {
   "codemirror_mode": {
    "name": "ipython",
    "version": 3
   },
   "file_extension": ".py",
   "mimetype": "text/x-python",
   "name": "python",
   "nbconvert_exporter": "python",
   "pygments_lexer": "ipython3",
   "version": "3.8.5"
  }
 },
 "nbformat": 4,
 "nbformat_minor": 2
}
