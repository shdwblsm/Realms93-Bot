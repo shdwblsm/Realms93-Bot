{
 "cells": [
  {
   "cell_type": "code",
   "execution_count": 1,
   "metadata": {
    "scrolled": true
   },
   "outputs": [
    {
     "name": "stdout",
     "output_type": "stream",
     "text": [
      "Bot Name: Zwischenzug\n",
      "Bot Password: Samoas7\n",
      "Opening Session\n",
      " \u001b[0m\u001b[32m\u001b[0m\n",
      "\u001b[0m\u001b[0m\u001b[32mThank you! You are now entering the realm...\u001b[0m\n",
      "\u001b[0m\u001b[0m\u001b[1m\u001b[0m\u001b[1m\u001b[32mZwischenzug has entered the realm.\u001b[0m\u001b[1m\u001b[0m\n",
      "\u001b[0m\n",
      "\u001b[0m\u001b[1m\u001b[0m\u001b[1m\u001b[37mTown Square\u001b[0m\u001b[1m\u001b[0m\n",
      "\u001b[0m\u001b[1m\u001b[0m\u001b[1m\u001b[35mYou are in the town square. This is the central meeting place for the realm.\n",
      "There is panel there for you to \u001b[0m\u001b[1m\u001b[35m\u001b[33mread\u001b[0m\u001b[1m\u001b[35m.\u001b[0m\u001b[1m\u001b[0m\n",
      "\u001b[0m\u001b[1m\u001b[0m\u001b[1m\u001b[32mexits: NORTH  EAST  SOUTH  WEST  \u001b[0m\u001b[1m\u001b[0m\n",
      "\u001b[0m\u001b[1m\u001b[0m\u001b[1m\u001b[33mYou see: Hockey Suit\u001b[0m\u001b[1m\u001b[0m\n",
      "\u001b[0m\u001b[1m\u001b[0m\u001b[1m\u001b[36mPeople: Argus, Zugzwang, Zwischenzug\u001b[0m\u001b[1m\u001b[0m\n",
      "\n",
      "\u001b[0m\n",
      "You have entered the assess module:  \u001b[0m\u001b[32m\u001b[0m\n",
      "\u001b[0m\u001b[0m\u001b[32mThank you! You are now entering the realm...\u001b[0m\n",
      "\u001b[0m\u001b[0m\u001b[1m\u001b[0m\u001b[1m\u001b[32mZwischenzug has entered the realm.\u001b[0m\u001b[1m\u001b[0m\n",
      "\u001b[0m\n",
      "\u001b[0m\u001b[1m\u001b[0m\u001b[1m\u001b[37mTown Square\u001b[0m\u001b[1m\u001b[0m\n",
      "\u001b[0m\u001b[1m\u001b[0m\u001b[1m\u001b[35mYou are in the town square. This is the central meeting place for the realm.\n",
      "There is panel there for you to \u001b[0m\u001b[1m\u001b[35m\u001b[33mread\u001b[0m\u001b[1m\u001b[35m.\u001b[0m\u001b[1m\u001b[0m\n",
      "\u001b[0m\u001b[1m\u001b[0m\u001b[1m\u001b[32mexits: NORTH  EAST  SOUTH  WEST  \u001b[0m\u001b[1m\u001b[0m\n",
      "\u001b[0m\u001b[1m\u001b[0m\u001b[1m\u001b[33mYou see: Hockey Suit\u001b[0m\u001b[1m\u001b[0m\n",
      "\u001b[0m\u001b[1m\u001b[0m\u001b[1m\u001b[36mPeople: Argus, Zugzwang, Zwischenzug\u001b[0m\u001b[1m\u001b[0m\n",
      "\n",
      "\u001b[0m\n"
     ]
    },
    {
     "ename": "error",
     "evalue": "unbalanced parenthesis at position 14",
     "output_type": "error",
     "traceback": [
      "\u001b[0;31m---------------------------------------------------------------------------\u001b[0m",
      "\u001b[0;31merror\u001b[0m                                     Traceback (most recent call last)",
      "\u001b[0;32m<ipython-input-1-3b377739b398>\u001b[0m in \u001b[0;36m<module>\u001b[0;34m\u001b[0m\n\u001b[1;32m     55\u001b[0m         \u001b[0mprint\u001b[0m\u001b[0;34m(\u001b[0m\u001b[0mOutput\u001b[0m\u001b[0;34m)\u001b[0m\u001b[0;34m\u001b[0m\u001b[0;34m\u001b[0m\u001b[0m\n\u001b[1;32m     56\u001b[0m         \u001b[0;31m# Assess Situation\u001b[0m\u001b[0;34m\u001b[0m\u001b[0;34m\u001b[0m\u001b[0;34m\u001b[0m\u001b[0m\n\u001b[0;32m---> 57\u001b[0;31m         \u001b[0minteract\u001b[0m\u001b[0;34m.\u001b[0m\u001b[0massess\u001b[0m\u001b[0;34m(\u001b[0m\u001b[0mOutput\u001b[0m\u001b[0;34m,\u001b[0m\u001b[0mbotState\u001b[0m\u001b[0;34m,\u001b[0m\u001b[0mbotName\u001b[0m\u001b[0;34m)\u001b[0m\u001b[0;34m\u001b[0m\u001b[0;34m\u001b[0m\u001b[0m\n\u001b[0m\u001b[1;32m     58\u001b[0m \u001b[0;34m\u001b[0m\u001b[0m\n\u001b[1;32m     59\u001b[0m         \u001b[0;32mcontinue\u001b[0m\u001b[0;34m;\u001b[0m\u001b[0;34m\u001b[0m\u001b[0;34m\u001b[0m\u001b[0m\n",
      "\u001b[0;32m~/Realms93/windows93-bot/interact.py\u001b[0m in \u001b[0;36massess\u001b[0;34m(Output, botState, botName)\u001b[0m\n\u001b[1;32m      8\u001b[0m     \u001b[0;31m#Removing color coding ascii with regex\u001b[0m\u001b[0;34m\u001b[0m\u001b[0;34m\u001b[0m\u001b[0;34m\u001b[0m\u001b[0m\n\u001b[1;32m      9\u001b[0m     \u001b[0mcolorcodes\u001b[0m \u001b[0;34m=\u001b[0m \u001b[0;34mr'\\^\\[\\[\\d{1,2}m)(\\^M)*'\u001b[0m\u001b[0;34m\u001b[0m\u001b[0;34m\u001b[0m\u001b[0m\n\u001b[0;32m---> 10\u001b[0;31m     \u001b[0mOutput\u001b[0m \u001b[0;34m=\u001b[0m \u001b[0mre\u001b[0m\u001b[0;34m.\u001b[0m\u001b[0msub\u001b[0m\u001b[0;34m(\u001b[0m\u001b[0mcolorcodes\u001b[0m\u001b[0;34m,\u001b[0m \u001b[0;34m''\u001b[0m\u001b[0;34m,\u001b[0m \u001b[0mOutput\u001b[0m\u001b[0;34m)\u001b[0m\u001b[0;34m\u001b[0m\u001b[0;34m\u001b[0m\u001b[0m\n\u001b[0m\u001b[1;32m     11\u001b[0m \u001b[0;34m\u001b[0m\u001b[0m\n\u001b[1;32m     12\u001b[0m     \u001b[0;31m# If multiple lines in buffer, split them\u001b[0m\u001b[0;34m\u001b[0m\u001b[0;34m\u001b[0m\u001b[0;34m\u001b[0m\u001b[0m\n",
      "\u001b[0;32m/usr/lib/python3.8/re.py\u001b[0m in \u001b[0;36msub\u001b[0;34m(pattern, repl, string, count, flags)\u001b[0m\n\u001b[1;32m    208\u001b[0m     \u001b[0ma\u001b[0m \u001b[0mcallable\u001b[0m\u001b[0;34m,\u001b[0m \u001b[0mit\u001b[0m\u001b[0;31m'\u001b[0m\u001b[0ms\u001b[0m \u001b[0mpassed\u001b[0m \u001b[0mthe\u001b[0m \u001b[0mMatch\u001b[0m \u001b[0mobject\u001b[0m \u001b[0;32mand\u001b[0m \u001b[0mmust\u001b[0m \u001b[0;32mreturn\u001b[0m\u001b[0;34m\u001b[0m\u001b[0;34m\u001b[0m\u001b[0m\n\u001b[1;32m    209\u001b[0m     a replacement string to be used.\"\"\"\n\u001b[0;32m--> 210\u001b[0;31m     \u001b[0;32mreturn\u001b[0m \u001b[0m_compile\u001b[0m\u001b[0;34m(\u001b[0m\u001b[0mpattern\u001b[0m\u001b[0;34m,\u001b[0m \u001b[0mflags\u001b[0m\u001b[0;34m)\u001b[0m\u001b[0;34m.\u001b[0m\u001b[0msub\u001b[0m\u001b[0;34m(\u001b[0m\u001b[0mrepl\u001b[0m\u001b[0;34m,\u001b[0m \u001b[0mstring\u001b[0m\u001b[0;34m,\u001b[0m \u001b[0mcount\u001b[0m\u001b[0;34m)\u001b[0m\u001b[0;34m\u001b[0m\u001b[0;34m\u001b[0m\u001b[0m\n\u001b[0m\u001b[1;32m    211\u001b[0m \u001b[0;34m\u001b[0m\u001b[0m\n\u001b[1;32m    212\u001b[0m \u001b[0;32mdef\u001b[0m \u001b[0msubn\u001b[0m\u001b[0;34m(\u001b[0m\u001b[0mpattern\u001b[0m\u001b[0;34m,\u001b[0m \u001b[0mrepl\u001b[0m\u001b[0;34m,\u001b[0m \u001b[0mstring\u001b[0m\u001b[0;34m,\u001b[0m \u001b[0mcount\u001b[0m\u001b[0;34m=\u001b[0m\u001b[0;36m0\u001b[0m\u001b[0;34m,\u001b[0m \u001b[0mflags\u001b[0m\u001b[0;34m=\u001b[0m\u001b[0;36m0\u001b[0m\u001b[0;34m)\u001b[0m\u001b[0;34m:\u001b[0m\u001b[0;34m\u001b[0m\u001b[0;34m\u001b[0m\u001b[0m\n",
      "\u001b[0;32m/usr/lib/python3.8/re.py\u001b[0m in \u001b[0;36m_compile\u001b[0;34m(pattern, flags)\u001b[0m\n\u001b[1;32m    302\u001b[0m     \u001b[0;32mif\u001b[0m \u001b[0;32mnot\u001b[0m \u001b[0msre_compile\u001b[0m\u001b[0;34m.\u001b[0m\u001b[0misstring\u001b[0m\u001b[0;34m(\u001b[0m\u001b[0mpattern\u001b[0m\u001b[0;34m)\u001b[0m\u001b[0;34m:\u001b[0m\u001b[0;34m\u001b[0m\u001b[0;34m\u001b[0m\u001b[0m\n\u001b[1;32m    303\u001b[0m         \u001b[0;32mraise\u001b[0m \u001b[0mTypeError\u001b[0m\u001b[0;34m(\u001b[0m\u001b[0;34m\"first argument must be string or compiled pattern\"\u001b[0m\u001b[0;34m)\u001b[0m\u001b[0;34m\u001b[0m\u001b[0;34m\u001b[0m\u001b[0m\n\u001b[0;32m--> 304\u001b[0;31m     \u001b[0mp\u001b[0m \u001b[0;34m=\u001b[0m \u001b[0msre_compile\u001b[0m\u001b[0;34m.\u001b[0m\u001b[0mcompile\u001b[0m\u001b[0;34m(\u001b[0m\u001b[0mpattern\u001b[0m\u001b[0;34m,\u001b[0m \u001b[0mflags\u001b[0m\u001b[0;34m)\u001b[0m\u001b[0;34m\u001b[0m\u001b[0;34m\u001b[0m\u001b[0m\n\u001b[0m\u001b[1;32m    305\u001b[0m     \u001b[0;32mif\u001b[0m \u001b[0;32mnot\u001b[0m \u001b[0;34m(\u001b[0m\u001b[0mflags\u001b[0m \u001b[0;34m&\u001b[0m \u001b[0mDEBUG\u001b[0m\u001b[0;34m)\u001b[0m\u001b[0;34m:\u001b[0m\u001b[0;34m\u001b[0m\u001b[0;34m\u001b[0m\u001b[0m\n\u001b[1;32m    306\u001b[0m         \u001b[0;32mif\u001b[0m \u001b[0mlen\u001b[0m\u001b[0;34m(\u001b[0m\u001b[0m_cache\u001b[0m\u001b[0;34m)\u001b[0m \u001b[0;34m>=\u001b[0m \u001b[0m_MAXCACHE\u001b[0m\u001b[0;34m:\u001b[0m\u001b[0;34m\u001b[0m\u001b[0;34m\u001b[0m\u001b[0m\n",
      "\u001b[0;32m/usr/lib/python3.8/sre_compile.py\u001b[0m in \u001b[0;36mcompile\u001b[0;34m(p, flags)\u001b[0m\n\u001b[1;32m    762\u001b[0m     \u001b[0;32mif\u001b[0m \u001b[0misstring\u001b[0m\u001b[0;34m(\u001b[0m\u001b[0mp\u001b[0m\u001b[0;34m)\u001b[0m\u001b[0;34m:\u001b[0m\u001b[0;34m\u001b[0m\u001b[0;34m\u001b[0m\u001b[0m\n\u001b[1;32m    763\u001b[0m         \u001b[0mpattern\u001b[0m \u001b[0;34m=\u001b[0m \u001b[0mp\u001b[0m\u001b[0;34m\u001b[0m\u001b[0;34m\u001b[0m\u001b[0m\n\u001b[0;32m--> 764\u001b[0;31m         \u001b[0mp\u001b[0m \u001b[0;34m=\u001b[0m \u001b[0msre_parse\u001b[0m\u001b[0;34m.\u001b[0m\u001b[0mparse\u001b[0m\u001b[0;34m(\u001b[0m\u001b[0mp\u001b[0m\u001b[0;34m,\u001b[0m \u001b[0mflags\u001b[0m\u001b[0;34m)\u001b[0m\u001b[0;34m\u001b[0m\u001b[0;34m\u001b[0m\u001b[0m\n\u001b[0m\u001b[1;32m    765\u001b[0m     \u001b[0;32melse\u001b[0m\u001b[0;34m:\u001b[0m\u001b[0;34m\u001b[0m\u001b[0;34m\u001b[0m\u001b[0m\n\u001b[1;32m    766\u001b[0m         \u001b[0mpattern\u001b[0m \u001b[0;34m=\u001b[0m \u001b[0;32mNone\u001b[0m\u001b[0;34m\u001b[0m\u001b[0;34m\u001b[0m\u001b[0m\n",
      "\u001b[0;32m/usr/lib/python3.8/sre_parse.py\u001b[0m in \u001b[0;36mparse\u001b[0;34m(str, flags, state)\u001b[0m\n\u001b[1;32m    960\u001b[0m     \u001b[0;32mif\u001b[0m \u001b[0msource\u001b[0m\u001b[0;34m.\u001b[0m\u001b[0mnext\u001b[0m \u001b[0;32mis\u001b[0m \u001b[0;32mnot\u001b[0m \u001b[0;32mNone\u001b[0m\u001b[0;34m:\u001b[0m\u001b[0;34m\u001b[0m\u001b[0;34m\u001b[0m\u001b[0m\n\u001b[1;32m    961\u001b[0m         \u001b[0;32massert\u001b[0m \u001b[0msource\u001b[0m\u001b[0;34m.\u001b[0m\u001b[0mnext\u001b[0m \u001b[0;34m==\u001b[0m \u001b[0;34m\")\"\u001b[0m\u001b[0;34m\u001b[0m\u001b[0;34m\u001b[0m\u001b[0m\n\u001b[0;32m--> 962\u001b[0;31m         \u001b[0;32mraise\u001b[0m \u001b[0msource\u001b[0m\u001b[0;34m.\u001b[0m\u001b[0merror\u001b[0m\u001b[0;34m(\u001b[0m\u001b[0;34m\"unbalanced parenthesis\"\u001b[0m\u001b[0;34m)\u001b[0m\u001b[0;34m\u001b[0m\u001b[0;34m\u001b[0m\u001b[0m\n\u001b[0m\u001b[1;32m    963\u001b[0m \u001b[0;34m\u001b[0m\u001b[0m\n\u001b[1;32m    964\u001b[0m     \u001b[0;32mif\u001b[0m \u001b[0mflags\u001b[0m \u001b[0;34m&\u001b[0m \u001b[0mSRE_FLAG_DEBUG\u001b[0m\u001b[0;34m:\u001b[0m\u001b[0;34m\u001b[0m\u001b[0;34m\u001b[0m\u001b[0m\n",
      "\u001b[0;31merror\u001b[0m: unbalanced parenthesis at position 14"
     ]
    }
   ],
   "source": [
    "import time\n",
    "from datetime import datetime\n",
    "import sys\n",
    "import telnetlib\n",
    "from telnetlib import Telnet \n",
    "import interact\n",
    "import re  \n",
    "\n",
    "\n",
    "\n",
    "\n",
    "tn = telnetlib.Telnet(\"www.windows93.net\", 8082)  \n",
    "\n",
    "\n",
    "\n",
    "# initiate telnet connection for ....\n",
    "\n",
    "botName = input(\"Bot Name: \")\n",
    "password = input(\"Bot Password: \")\n",
    "host = \"www.windows93.net\"\n",
    "botState = \"active\"\n",
    "\n",
    "# Open Session\n",
    "tn.open(host, 8082)\n",
    "\n",
    "print(\"Opening Session\")\n",
    "\n",
    "tn.read_until(b\"Please enter your name, or \\\"new\\\" if you are new.\")\n",
    "tn.write(botName.encode('ascii') + b\"\\n\")\n",
    "tn.read_until(b\"Please enter your password.\")\n",
    "tn.write(password.encode('ascii') + b\"\\n\")\n",
    "             \n",
    "# Look in world\n",
    "             \n",
    "# tn.write(b\"look\\n\")\n",
    "\n",
    "time.sleep(1)\n",
    "\n",
    "while True:    \n",
    "    \n",
    "    Output = tn.read_very_eager().decode('ascii')\n",
    "    now = datetime.now()\n",
    "    tstamp = now.strftime(\"[%m/%d/%Y %H:%M] \")\n",
    "    \n",
    "    if Output == \"\":\n",
    "        continue;\n",
    "    else:\n",
    "           \n",
    "        \n",
    "        # Save a log\n",
    "        file = open(\"realms93-log\", \"a\")\n",
    "        file.write(tstamp + Output)\n",
    "        file.close()\n",
    "        \n",
    "       \n",
    "        print(Output)\n",
    "        # Assess Situation\n",
    "        interact.assess(Output,botState,botName)\n",
    "        \n",
    "        continue;\n",
    "\n",
    "\n",
    "    \n"
   ]
  },
  {
   "cell_type": "code",
   "execution_count": null,
   "metadata": {},
   "outputs": [],
   "source": [
    "say(\"Test\")"
   ]
  },
  {
   "cell_type": "code",
   "execution_count": 2,
   "metadata": {},
   "outputs": [],
   "source": [
    "tn.close()"
   ]
  },
  {
   "cell_type": "code",
   "execution_count": null,
   "metadata": {},
   "outputs": [],
   "source": []
  }
 ],
 "metadata": {
  "kernelspec": {
   "display_name": "Python 3",
   "language": "python",
   "name": "python3"
  },
  "language_info": {
   "codemirror_mode": {
    "name": "ipython",
    "version": 3
   },
   "file_extension": ".py",
   "mimetype": "text/x-python",
   "name": "python",
   "nbconvert_exporter": "python",
   "pygments_lexer": "ipython3",
   "version": "3.8.5"
  }
 },
 "nbformat": 4,
 "nbformat_minor": 2
}
